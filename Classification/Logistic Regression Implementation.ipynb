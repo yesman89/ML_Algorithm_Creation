{
 "cells": [
  {
   "cell_type": "code",
   "execution_count": 1,
   "id": "423ad7c2",
   "metadata": {},
   "outputs": [],
   "source": [
    "import pandas as pd\n",
    "import numpy as np\n",
    "import matplotlib.pyplot as plt"
   ]
  },
  {
   "cell_type": "code",
   "execution_count": 39,
   "id": "61196d78",
   "metadata": {},
   "outputs": [],
   "source": [
    "train_x = pd.read_csv(\"train_x.txt\")\n",
    "test_x = pd.read_csv(\"test_x.txt\")\n",
    "train_y = pd.read_csv(\"train_y.txt\")\n",
    "test_y = pd.read_csv(\"test_y.txt\")"
   ]
  },
  {
   "cell_type": "code",
   "execution_count": 40,
   "id": "7cc427ee",
   "metadata": {},
   "outputs": [],
   "source": [
    "train_x.drop(\"Id\", axis = 1, inplace = True)\n",
    "test_x.drop(\"Id\", axis = 1, inplace = True)\n",
    "train_y.drop(\"Id\", axis = 1, inplace = True)\n",
    "test_y.drop(\"Id\", axis = 1, inplace = True)"
   ]
  },
  {
   "cell_type": "code",
   "execution_count": 41,
   "id": "b30507de",
   "metadata": {},
   "outputs": [],
   "source": [
    "train_x = train_x.values.T\n",
    "train_y = train_y.values.T\n",
    "test_x = test_x.values.T\n",
    "test_y = test_y.values.T"
   ]
  },
  {
   "cell_type": "code",
   "execution_count": 35,
   "id": "60a68d23",
   "metadata": {},
   "outputs": [],
   "source": [
    "m = train_x.shape[1]\n",
    "n = train_x.shape[0]"
   ]
  },
  {
   "cell_type": "code",
   "execution_count": 45,
   "id": "4ffa0584",
   "metadata": {},
   "outputs": [
    {
     "data": {
      "text/plain": [
       "891"
      ]
     },
     "execution_count": 45,
     "metadata": {},
     "output_type": "execute_result"
    }
   ],
   "source": [
    "m"
   ]
  },
  {
   "cell_type": "code",
   "execution_count": 38,
   "id": "c52215f3",
   "metadata": {},
   "outputs": [
    {
     "data": {
      "text/plain": [
       "(7, 891)"
      ]
     },
     "execution_count": 38,
     "metadata": {},
     "output_type": "execute_result"
    }
   ],
   "source": [
    "train_x.shape"
   ]
  },
  {
   "cell_type": "code",
   "execution_count": 37,
   "id": "0cd1d5fb",
   "metadata": {},
   "outputs": [
    {
     "data": {
      "text/plain": [
       "(1, 7)"
      ]
     },
     "execution_count": 37,
     "metadata": {},
     "output_type": "execute_result"
    }
   ],
   "source": [
    "W = np.zeros((n,1))\n",
    "W.T.shape"
   ]
  },
  {
   "cell_type": "code",
   "execution_count": 19,
   "id": "1815e698",
   "metadata": {},
   "outputs": [
    {
     "data": {
      "text/plain": [
       "(1, 891)"
      ]
     },
     "execution_count": 19,
     "metadata": {},
     "output_type": "execute_result"
    }
   ],
   "source": [
    "train_y.values.T.shape"
   ]
  },
  {
   "cell_type": "code",
   "execution_count": 20,
   "id": "839aeff1",
   "metadata": {},
   "outputs": [
    {
     "data": {
      "text/plain": [
       "(891, 7)"
      ]
     },
     "execution_count": 20,
     "metadata": {},
     "output_type": "execute_result"
    }
   ],
   "source": [
    "train_x.values.shape"
   ]
  },
  {
   "cell_type": "code",
   "execution_count": 21,
   "id": "75308316",
   "metadata": {},
   "outputs": [
    {
     "data": {
      "text/plain": [
       "7"
      ]
     },
     "execution_count": 21,
     "metadata": {},
     "output_type": "execute_result"
    }
   ],
   "source": [
    "train_x.shape[1]"
   ]
  },
  {
   "cell_type": "code",
   "execution_count": 22,
   "id": "8ec44eac",
   "metadata": {},
   "outputs": [
    {
     "data": {
      "text/plain": [
       "(891, 1)"
      ]
     },
     "execution_count": 22,
     "metadata": {},
     "output_type": "execute_result"
    }
   ],
   "source": [
    "train_y.shape"
   ]
  },
  {
   "cell_type": "code",
   "execution_count": 32,
   "id": "ccdd0f8c",
   "metadata": {},
   "outputs": [
    {
     "data": {
      "text/plain": [
       "(1, 891)"
      ]
     },
     "execution_count": 32,
     "metadata": {},
     "output_type": "execute_result"
    }
   ],
   "source": [
    "y_train = train_y.reshape(1, train_x.shape[1])\n",
    "y_train.shape"
   ]
  },
  {
   "cell_type": "code",
   "execution_count": null,
   "id": "abc9b810",
   "metadata": {},
   "outputs": [],
   "source": [
    "def sigmoid(x):\n",
    "    return 1/(1 + np.exp(-x))"
   ]
  },
  {
   "cell_type": "code",
   "execution_count": null,
   "id": "e442437e",
   "metadata": {},
   "outputs": [],
   "source": [
    "def model(X, Y, learning_rate, iterations):\n",
    " \n",
    "    m = X_train.shape[1]\n",
    "    n = X_train.shape[0]\n",
    "\n",
    "    W = np.zeros((n,1))\n",
    "    B = 0\n",
    "\n",
    "    cost_list = []\n",
    "\n",
    "    for i in range(iterations):\n",
    "\n",
    "        Z = np.dot(W.T, X) + B\n",
    "        A = sigmoid(Z)\n",
    "\n",
    "        # cost function\n",
    "        cost = -(1/m)*np.sum( Y*np.log(A) + (1-Y)*np.log(1-A))\n",
    "\n",
    "        # Gradient Descent\n",
    "        dW = (1/m)*np.dot(A-Y, X.T)\n",
    "        dB = (1/m)*np.sum(A - Y)\n",
    "\n",
    "        W = W - learning_rate*dW.T\n",
    "        B = B - learning_rate*dB\n",
    "\n",
    "        # Keeping track of our cost function value\n",
    "        cost_list.append(cost)\n",
    "\n",
    "        if(i%(iterations/10) == 0):\n",
    "        print(\"cost after \", i, \"iteration is : \", cost)\n",
    " \n",
    "    return W, B, cost_list"
   ]
  }
 ],
 "metadata": {
  "kernelspec": {
   "display_name": "Python 3 (ipykernel)",
   "language": "python",
   "name": "python3"
  },
  "language_info": {
   "codemirror_mode": {
    "name": "ipython",
    "version": 3
   },
   "file_extension": ".py",
   "mimetype": "text/x-python",
   "name": "python",
   "nbconvert_exporter": "python",
   "pygments_lexer": "ipython3",
   "version": "3.8.13"
  }
 },
 "nbformat": 4,
 "nbformat_minor": 5
}
